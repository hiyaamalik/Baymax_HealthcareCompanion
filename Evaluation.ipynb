{
  "nbformat": 4,
  "nbformat_minor": 0,
  "metadata": {
    "colab": {
      "provenance": []
    },
    "kernelspec": {
      "name": "python3",
      "display_name": "Python 3"
    },
    "language_info": {
      "name": "python"
    }
  },
  "cells": [
    {
      "cell_type": "code",
      "source": [
        "pip install streamlit transformers faiss-cpu sentence-transformers torch\n"
      ],
      "metadata": {
        "colab": {
          "base_uri": "https://localhost:8080/"
        },
        "id": "PaXtejxykYyI",
        "outputId": "91f4466b-7533-449b-e0a7-a6a040443242"
      },
      "execution_count": 16,
      "outputs": [
        {
          "output_type": "stream",
          "name": "stdout",
          "text": [
            "Collecting streamlit\n",
            "  Using cached streamlit-1.40.2-py2.py3-none-any.whl.metadata (8.4 kB)\n",
            "Requirement already satisfied: transformers in /usr/local/lib/python3.10/dist-packages (4.46.2)\n",
            "Requirement already satisfied: faiss-cpu in /usr/local/lib/python3.10/dist-packages (1.9.0.post1)\n",
            "Requirement already satisfied: sentence-transformers in /usr/local/lib/python3.10/dist-packages (3.2.1)\n",
            "Requirement already satisfied: torch in /usr/local/lib/python3.10/dist-packages (2.5.1+cu121)\n",
            "Requirement already satisfied: altair<6,>=4.0 in /usr/local/lib/python3.10/dist-packages (from streamlit) (4.2.2)\n",
            "Requirement already satisfied: blinker<2,>=1.0.0 in /usr/local/lib/python3.10/dist-packages (from streamlit) (1.9.0)\n",
            "Requirement already satisfied: cachetools<6,>=4.0 in /usr/local/lib/python3.10/dist-packages (from streamlit) (5.5.0)\n",
            "Requirement already satisfied: click<9,>=7.0 in /usr/local/lib/python3.10/dist-packages (from streamlit) (8.1.7)\n",
            "Requirement already satisfied: numpy<3,>=1.23 in /usr/local/lib/python3.10/dist-packages (from streamlit) (1.26.4)\n",
            "Requirement already satisfied: packaging<25,>=20 in /usr/local/lib/python3.10/dist-packages (from streamlit) (24.2)\n",
            "Requirement already satisfied: pandas<3,>=1.4.0 in /usr/local/lib/python3.10/dist-packages (from streamlit) (2.2.2)\n",
            "Requirement already satisfied: pillow<12,>=7.1.0 in /usr/local/lib/python3.10/dist-packages (from streamlit) (11.0.0)\n",
            "Requirement already satisfied: protobuf<6,>=3.20 in /usr/local/lib/python3.10/dist-packages (from streamlit) (4.25.5)\n",
            "Requirement already satisfied: pyarrow>=7.0 in /usr/local/lib/python3.10/dist-packages (from streamlit) (17.0.0)\n",
            "Requirement already satisfied: requests<3,>=2.27 in /usr/local/lib/python3.10/dist-packages (from streamlit) (2.32.3)\n",
            "Requirement already satisfied: rich<14,>=10.14.0 in /usr/local/lib/python3.10/dist-packages (from streamlit) (13.9.4)\n",
            "Requirement already satisfied: tenacity<10,>=8.1.0 in /usr/local/lib/python3.10/dist-packages (from streamlit) (9.0.0)\n",
            "Requirement already satisfied: toml<2,>=0.10.1 in /usr/local/lib/python3.10/dist-packages (from streamlit) (0.10.2)\n",
            "Requirement already satisfied: typing-extensions<5,>=4.3.0 in /usr/local/lib/python3.10/dist-packages (from streamlit) (4.12.2)\n",
            "Collecting watchdog<7,>=2.1.5 (from streamlit)\n",
            "  Downloading watchdog-6.0.0-py3-none-manylinux2014_x86_64.whl.metadata (44 kB)\n",
            "\u001b[2K     \u001b[90m━━━━━━━━━━━━━━━━━━━━━━━━━━━━━━━━━━━━━━━━\u001b[0m \u001b[32m44.3/44.3 kB\u001b[0m \u001b[31m3.4 MB/s\u001b[0m eta \u001b[36m0:00:00\u001b[0m\n",
            "\u001b[?25hRequirement already satisfied: gitpython!=3.1.19,<4,>=3.0.7 in /usr/local/lib/python3.10/dist-packages (from streamlit) (3.1.43)\n",
            "Collecting pydeck<1,>=0.8.0b4 (from streamlit)\n",
            "  Downloading pydeck-0.9.1-py2.py3-none-any.whl.metadata (4.1 kB)\n",
            "Requirement already satisfied: tornado<7,>=6.0.3 in /usr/local/lib/python3.10/dist-packages (from streamlit) (6.3.3)\n",
            "Requirement already satisfied: filelock in /usr/local/lib/python3.10/dist-packages (from transformers) (3.16.1)\n",
            "Requirement already satisfied: huggingface-hub<1.0,>=0.23.2 in /usr/local/lib/python3.10/dist-packages (from transformers) (0.26.2)\n",
            "Requirement already satisfied: pyyaml>=5.1 in /usr/local/lib/python3.10/dist-packages (from transformers) (6.0.2)\n",
            "Requirement already satisfied: regex!=2019.12.17 in /usr/local/lib/python3.10/dist-packages (from transformers) (2024.9.11)\n",
            "Requirement already satisfied: safetensors>=0.4.1 in /usr/local/lib/python3.10/dist-packages (from transformers) (0.4.5)\n",
            "Requirement already satisfied: tokenizers<0.21,>=0.20 in /usr/local/lib/python3.10/dist-packages (from transformers) (0.20.3)\n",
            "Requirement already satisfied: tqdm>=4.27 in /usr/local/lib/python3.10/dist-packages (from transformers) (4.66.6)\n",
            "Requirement already satisfied: scikit-learn in /usr/local/lib/python3.10/dist-packages (from sentence-transformers) (1.5.2)\n",
            "Requirement already satisfied: scipy in /usr/local/lib/python3.10/dist-packages (from sentence-transformers) (1.13.1)\n",
            "Requirement already satisfied: networkx in /usr/local/lib/python3.10/dist-packages (from torch) (3.4.2)\n",
            "Requirement already satisfied: jinja2 in /usr/local/lib/python3.10/dist-packages (from torch) (3.1.4)\n",
            "Requirement already satisfied: fsspec in /usr/local/lib/python3.10/dist-packages (from torch) (2024.10.0)\n",
            "Requirement already satisfied: sympy==1.13.1 in /usr/local/lib/python3.10/dist-packages (from torch) (1.13.1)\n",
            "Requirement already satisfied: mpmath<1.4,>=1.1.0 in /usr/local/lib/python3.10/dist-packages (from sympy==1.13.1->torch) (1.3.0)\n",
            "Requirement already satisfied: entrypoints in /usr/local/lib/python3.10/dist-packages (from altair<6,>=4.0->streamlit) (0.4)\n",
            "Requirement already satisfied: jsonschema>=3.0 in /usr/local/lib/python3.10/dist-packages (from altair<6,>=4.0->streamlit) (4.23.0)\n",
            "Requirement already satisfied: toolz in /usr/local/lib/python3.10/dist-packages (from altair<6,>=4.0->streamlit) (0.12.1)\n",
            "Requirement already satisfied: gitdb<5,>=4.0.1 in /usr/local/lib/python3.10/dist-packages (from gitpython!=3.1.19,<4,>=3.0.7->streamlit) (4.0.11)\n",
            "Requirement already satisfied: python-dateutil>=2.8.2 in /usr/local/lib/python3.10/dist-packages (from pandas<3,>=1.4.0->streamlit) (2.8.2)\n",
            "Requirement already satisfied: pytz>=2020.1 in /usr/local/lib/python3.10/dist-packages (from pandas<3,>=1.4.0->streamlit) (2024.2)\n",
            "Requirement already satisfied: tzdata>=2022.7 in /usr/local/lib/python3.10/dist-packages (from pandas<3,>=1.4.0->streamlit) (2024.2)\n",
            "Requirement already satisfied: MarkupSafe>=2.0 in /usr/local/lib/python3.10/dist-packages (from jinja2->torch) (3.0.2)\n",
            "Requirement already satisfied: charset-normalizer<4,>=2 in /usr/local/lib/python3.10/dist-packages (from requests<3,>=2.27->streamlit) (3.4.0)\n",
            "Requirement already satisfied: idna<4,>=2.5 in /usr/local/lib/python3.10/dist-packages (from requests<3,>=2.27->streamlit) (3.10)\n",
            "Requirement already satisfied: urllib3<3,>=1.21.1 in /usr/local/lib/python3.10/dist-packages (from requests<3,>=2.27->streamlit) (2.2.3)\n",
            "Requirement already satisfied: certifi>=2017.4.17 in /usr/local/lib/python3.10/dist-packages (from requests<3,>=2.27->streamlit) (2024.8.30)\n",
            "Requirement already satisfied: markdown-it-py>=2.2.0 in /usr/local/lib/python3.10/dist-packages (from rich<14,>=10.14.0->streamlit) (3.0.0)\n",
            "Requirement already satisfied: pygments<3.0.0,>=2.13.0 in /usr/local/lib/python3.10/dist-packages (from rich<14,>=10.14.0->streamlit) (2.18.0)\n",
            "Requirement already satisfied: joblib>=1.2.0 in /usr/local/lib/python3.10/dist-packages (from scikit-learn->sentence-transformers) (1.4.2)\n",
            "Requirement already satisfied: threadpoolctl>=3.1.0 in /usr/local/lib/python3.10/dist-packages (from scikit-learn->sentence-transformers) (3.5.0)\n",
            "Requirement already satisfied: smmap<6,>=3.0.1 in /usr/local/lib/python3.10/dist-packages (from gitdb<5,>=4.0.1->gitpython!=3.1.19,<4,>=3.0.7->streamlit) (5.0.1)\n",
            "Requirement already satisfied: attrs>=22.2.0 in /usr/local/lib/python3.10/dist-packages (from jsonschema>=3.0->altair<6,>=4.0->streamlit) (24.2.0)\n",
            "Requirement already satisfied: jsonschema-specifications>=2023.03.6 in /usr/local/lib/python3.10/dist-packages (from jsonschema>=3.0->altair<6,>=4.0->streamlit) (2024.10.1)\n",
            "Requirement already satisfied: referencing>=0.28.4 in /usr/local/lib/python3.10/dist-packages (from jsonschema>=3.0->altair<6,>=4.0->streamlit) (0.35.1)\n",
            "Requirement already satisfied: rpds-py>=0.7.1 in /usr/local/lib/python3.10/dist-packages (from jsonschema>=3.0->altair<6,>=4.0->streamlit) (0.21.0)\n",
            "Requirement already satisfied: mdurl~=0.1 in /usr/local/lib/python3.10/dist-packages (from markdown-it-py>=2.2.0->rich<14,>=10.14.0->streamlit) (0.1.2)\n",
            "Requirement already satisfied: six>=1.5 in /usr/local/lib/python3.10/dist-packages (from python-dateutil>=2.8.2->pandas<3,>=1.4.0->streamlit) (1.16.0)\n",
            "Downloading streamlit-1.40.2-py2.py3-none-any.whl (8.6 MB)\n",
            "\u001b[2K   \u001b[90m━━━━━━━━━━━━━━━━━━━━━━━━━━━━━━━━━━━━━━━━\u001b[0m \u001b[32m8.6/8.6 MB\u001b[0m \u001b[31m59.8 MB/s\u001b[0m eta \u001b[36m0:00:00\u001b[0m\n",
            "\u001b[?25hDownloading pydeck-0.9.1-py2.py3-none-any.whl (6.9 MB)\n",
            "\u001b[2K   \u001b[90m━━━━━━━━━━━━━━━━━━━━━━━━━━━━━━━━━━━━━━━━\u001b[0m \u001b[32m6.9/6.9 MB\u001b[0m \u001b[31m54.7 MB/s\u001b[0m eta \u001b[36m0:00:00\u001b[0m\n",
            "\u001b[?25hDownloading watchdog-6.0.0-py3-none-manylinux2014_x86_64.whl (79 kB)\n",
            "\u001b[2K   \u001b[90m━━━━━━━━━━━━━━━━━━━━━━━━━━━━━━━━━━━━━━━━\u001b[0m \u001b[32m79.1/79.1 kB\u001b[0m \u001b[31m6.2 MB/s\u001b[0m eta \u001b[36m0:00:00\u001b[0m\n",
            "\u001b[?25hInstalling collected packages: watchdog, pydeck, streamlit\n",
            "Successfully installed pydeck-0.9.1 streamlit-1.40.2 watchdog-6.0.0\n"
          ]
        }
      ]
    },
    {
      "cell_type": "code",
      "source": [
        "import streamlit as st\n",
        "from transformers import pipeline, AutoModelForCausalLM, AutoTokenizer\n",
        "import faiss\n",
        "import numpy as np\n",
        "import torch\n",
        "from sentence_transformers import SentenceTransformer\n",
        "from sklearn.metrics.pairwise import cosine_similarity\n",
        "from transformers import GPT2LMHeadModel, GPT2Tokenizer\n",
        "from nltk.translate.bleu_score import sentence_bleu"
      ],
      "metadata": {
        "id": "b8z6TobFrYJW"
      },
      "execution_count": null,
      "outputs": []
    },
    {
      "cell_type": "code",
      "source": [
        "# Ensure the device is set correctly for PyTorch (if you're using a GPU)\n",
        "device = torch.device(\"cuda\" if torch.cuda.is_available() else \"cpu\")\n",
        "\n",
        "# Initialize the DistilGPT-2 model (a lighter version of GPT-2)\n",
        "generator = pipeline(\"text-generation\", model=\"distilgpt2\", device=device)\n",
        "\n",
        "# Define a simple medical knowledge base (this can be expanded)\n",
        "knowledge_base = [\n",
        "    \"Celiac disease is an autoimmune disorder that causes the body’s immune system to mistakenly attack its own tissues when gluten is ingested. Gluten, a protein found in wheat, barley, and rye, triggers an immune response that leads to inflammation and damage to the villi of the small intestine. This damage impairs the absorption of essential nutrients, leading to malnutrition and a variety of symptoms such as diarrhea, weight loss, abdominal pain, fatigue, and even skin rashes. If left untreated, celiac disease can cause long-term complications such as osteoporosis, infertility, and even neurological disorders. The only effective treatment for celiac disease is a lifelong gluten-free diet, which allows the intestine to heal and prevents further damage. Individuals with celiac disease must carefully avoid all sources of gluten, including hidden gluten in processed foods, cosmetics, and medicines. Regular checkups and blood tests are essential to monitor the individual's health and ensure the gluten-free diet is being strictly followed.\",\n",
        "\n",
        "    \"Celiac disease symptoms can vary widely among individuals and can include both gastrointestinal and non-gastrointestinal symptoms. Common gastrointestinal symptoms include diarrhea, bloating, abdominal cramps, and weight loss. However, many people may also experience non-gastrointestinal symptoms such as fatigue, joint pain, headaches, depression, skin rashes, and even infertility. Celiac disease can often be misdiagnosed due to the variety of symptoms, and it may be confused with other conditions like irritable bowel syndrome or lactose intolerance. Diagnosis typically involves blood tests looking for antibodies specific to celiac disease and a biopsy of the small intestine to assess damage to the villi. Left untreated, celiac disease can lead to serious health complications such as osteoporosis, liver disease, and an increased risk of certain types of cancer. It is crucial for individuals with suspected celiac disease to seek early diagnosis and follow a strict gluten-free diet to prevent long-term health issues.\",\n",
        "\n",
        "    \"A gluten-free diet is essential for managing celiac disease. This diet eliminates all foods containing wheat, barley, rye, and their derivatives, including many processed foods, sauces, and beverages. The primary goal of a gluten-free diet is to allow the small intestine to heal and to prevent further damage from the immune response triggered by gluten. Foods that are naturally gluten-free, such as fruits, vegetables, lean meats, and most dairy products, can form the foundation of the diet. Gluten-free grains like rice, corn, quinoa, and oats (that are not contaminated with gluten) can also be consumed. However, cross-contamination is a significant concern, and individuals with celiac disease must be diligent in avoiding even trace amounts of gluten. For those with celiac disease, careful label reading and food preparation are necessary to ensure safety. Additionally, individuals should be aware of hidden gluten in medications and supplements, as these can also cause adverse reactions.\",\n",
        "\n",
        "    \"Gluten is a protein found in wheat, barley, and rye that gives dough its elasticity and helps it rise and maintain its shape. For individuals with celiac disease, gluten triggers an immune response that damages the small intestine, particularly the villi, which are responsible for nutrient absorption. In people with celiac disease, consuming gluten leads to inflammation and destruction of these villi, leading to malabsorption of nutrients. This can cause a range of symptoms from gastrointestinal issues like diarrhea, bloating, and cramps, to more serious complications such as anemia, osteoporosis, and even infertility. Gluten is found in a wide range of foods and beverages, including bread, pasta, cereals, and beer. It is also used in processed foods as a stabilizing agent and thickener. For individuals with celiac disease, it is crucial to avoid all forms of gluten and any products that may be contaminated with gluten, including cosmetics and medications that may contain gluten as a binding agent.\",\n",
        "\n",
        "    \"Baymax is a virtual healthcare companion powered by artificial intelligence. Designed to provide users with information about health-related queries, Baymax can track wellness metrics such as heart rate, sleep patterns, and physical activity. As an AI-powered assistant, Baymax can also provide insights on various health topics, such as nutrition, exercise, and mental well-being. Its goal is to enhance healthcare accessibility by providing personalized and real-time health recommendations. Baymax can be integrated with wearable devices to monitor various health parameters and provide alerts when there are concerns. It also offers helpful advice on lifestyle modifications, such as improving diet, exercise, and sleep, to promote overall well-being. As technology continues to evolve, Baymax can play a significant role in preventive healthcare by empowering individuals to make informed health decisions and proactively manage their wellness.\",\n",
        "\n",
        "    \"Diabetes is a chronic medical condition that occurs when the body cannot effectively regulate blood sugar levels. Type 1 diabetes is an autoimmune disorder where the immune system attacks and destroys the insulin-producing cells in the pancreas, requiring individuals to take insulin for life. Type 2 diabetes, the most common form, occurs when the body becomes resistant to insulin or the pancreas does not produce enough insulin. Type 2 diabetes is often linked to obesity, lack of physical activity, and poor diet, and it can be managed with lifestyle changes, medication, and insulin therapy in more severe cases. Untreated diabetes can lead to serious complications, including heart disease, kidney damage, nerve damage, and blindness. Monitoring blood sugar levels, following a balanced diet, exercising regularly, and managing stress are crucial for managing diabetes and preventing complications. Early detection and intervention are key to improving outcomes and quality of life for individuals with diabetes.\",\n",
        "\n",
        "    \"Hypertension, or high blood pressure, is a condition in which the force of blood against the walls of the arteries is consistently too high. This condition can be caused by factors such as poor diet, lack of physical activity, obesity, excessive alcohol consumption, and stress. Hypertension is often referred to as the 'silent killer' because it may not show symptoms until significant damage has occurred to the heart, kidneys, or other organs. Left untreated, hypertension can lead to serious health complications, including stroke, heart disease, kidney failure, and vision loss. Blood pressure is measured in millimeters of mercury (mmHg), and a normal reading is usually around 120/80 mmHg. Lifestyle changes, such as reducing salt intake, maintaining a healthy weight, exercising regularly, and limiting alcohol consumption, can help lower blood pressure. In some cases, medication may be required to control hypertension and prevent complications.\",\n",
        "\n",
        "    \"Asthma is a chronic respiratory condition that affects the airways, causing them to become inflamed and narrow, making it difficult to breathe. Common symptoms include shortness of breath, wheezing, coughing, and chest tightness, which can range from mild to severe. Asthma attacks are triggered by various factors, including allergens, air pollution, respiratory infections, and physical activity. There are two main types of asthma: allergic and non-allergic asthma. While allergic asthma is triggered by environmental allergens like pollen, dust mites, and pet dander, non-allergic asthma can be triggered by irritants such as smoke, strong odors, and weather changes. Asthma is managed through medications, including inhaled bronchodilators and corticosteroids, which help open the airways and reduce inflammation. It is also essential to identify and avoid triggers to prevent asthma attacks. With proper management, most people with asthma can lead normal, active lives.\",\n",
        "\n",
        "    \"Mental health encompasses emotional, psychological, and social well-being. It affects how individuals think, feel, and behave, influencing how they handle stress, relate to others, and make decisions. Mental health disorders are common and can affect anyone at any stage of life. Some of the most prevalent mental health disorders include anxiety disorders, depression, bipolar disorder, and schizophrenia. Mental health is influenced by a variety of factors, including genetics, life experiences, and family history. Mental health issues can manifest in various ways, including changes in mood, behavior, and cognitive function. Early intervention and treatment are critical to managing mental health conditions and improving quality of life. Therapy, medication, lifestyle changes, and social support play a key role in managing mental health disorders. Destigmatizing mental health and encouraging open dialogue is essential to improving access to care and promoting mental wellness.\",\n",
        "\n",
        "    \"Chronic stress is a prolonged and constant feeling of stress that can have detrimental effects on both mental and physical health. While short-term stress can be beneficial in certain situations, chronic stress overwhelms the body's ability to cope and can contribute to the development of various health conditions. Physically, chronic stress can lead to high blood pressure, heart disease, digestive issues, weakened immune function, and even sleep disturbances. Psychologically, chronic stress can exacerbate mental health issues, including anxiety and depression. Effective stress management techniques, such as mindfulness, relaxation exercises, deep breathing, regular physical activity, and maintaining a healthy work-life balance, can help reduce the impact of chronic stress. In some cases, professional counseling or therapy may be necessary to help individuals cope with stress effectively and prevent long-term health complications.\",\n",
        "]\n",
        "\n",
        "\n",
        "\n",
        "\n",
        "# Using a pre-trained Sentence-BERT model to generate better embeddings\n",
        "sentence_model = SentenceTransformer('all-MiniLM-L6-v2')\n",
        "\n",
        "def encode_text(texts):\n",
        "    embeddings = sentence_model.encode(texts, convert_to_numpy=True)\n",
        "    return embeddings\n",
        "\n",
        "# Rebuild the FAISS index\n",
        "encoded_kb = encode_text(knowledge_base)\n",
        "index = faiss.IndexFlatL2(encoded_kb.shape[1])\n",
        "index.add(np.array(encoded_kb))\n",
        "\n",
        "\n",
        "# Function to retrieve relevant information based on user query\n",
        "def retrieve_info(query):\n",
        "    query_vec = encode_text([query])\n",
        "    D, I = index.search(query_vec, k=3)\n",
        "    relevant_info = [knowledge_base[i] for i in I[0]]\n",
        "    return \" \".join(relevant_info)\n",
        "\n",
        "def generate_response(query):\n",
        "    # Retrieve relevant context from the knowledge base\n",
        "    context = retrieve_info(query)\n",
        "\n",
        "    # Create a refined prompt\n",
        "    prompt = f\"User's Query: {query}\\n\\nContext: {context}\"\n",
        "\n",
        "    # Generate the response\n",
        "    response = generator(\n",
        "        prompt,\n",
        "        max_new_tokens=75,  # Limit the number of new tokens\n",
        "        num_return_sequences=1,\n",
        "        temperature=0.5,  # Moderate creativity for detailed answers\n",
        "        repetition_penalty=1.2,  # Avoid repetitive phrases\n",
        "        truncation=True,\n",
        "        pad_token_id=generator.tokenizer.eos_token_id,\n",
        "    )\n",
        "\n",
        "    # Extract and clean the generated text\n",
        "    generated_text = response[0][\"generated_text\"].strip()\n",
        "\n",
        "    # Filter sentences for relevance and coherence\n",
        "    sentences = generated_text.split(\". \")\n",
        "    filtered_sentences = [\n",
        "        sentence.strip()\n",
        "        for sentence in sentences\n",
        "        if len(sentence) > 20  # Ensure each sentence is not too short\n",
        "    ]\n",
        "\n",
        "    # Combine the filtered sentences into a single paragraph\n",
        "    final_response = \" \".join(filtered_sentences)\n",
        "\n",
        "    # Ensure the response ends with a period\n",
        "    if not final_response.endswith(\".\"):\n",
        "        final_response += \".\"\n",
        "\n",
        "    return final_response\n"
      ],
      "metadata": {
        "id": "FIicSpVWkXhn"
      },
      "execution_count": 41,
      "outputs": []
    },
    {
      "cell_type": "code",
      "source": [
        "def evaluate_relevance(query, generated_response):\n",
        "    # Encode the query and generated response\n",
        "    query_embedding = sentence_model.encode([query], convert_to_numpy=True)\n",
        "    response_embedding = sentence_model.encode([generated_response], convert_to_numpy=True)\n",
        "\n",
        "    # Compute cosine similarity\n",
        "    similarity_score = cosine_similarity(query_embedding, response_embedding)[0][0]\n",
        "\n",
        "    return similarity_score\n",
        "\n",
        "# Example usage\n",
        "query = \"What are the symptoms of celiac disease?\"\n",
        "generated_response = generate_response(query)\n",
        "\n",
        "similarity_score = evaluate_relevance(query, generated_response)\n",
        "print(f\"Relevance similarity score: {similarity_score:.4f}\")\n"
      ],
      "metadata": {
        "colab": {
          "base_uri": "https://localhost:8080/"
        },
        "id": "Ycblb92Sk9Yv",
        "outputId": "fec3ef76-3e32-490d-f17b-d2e6d60164bc"
      },
      "execution_count": 18,
      "outputs": [
        {
          "output_type": "stream",
          "name": "stdout",
          "text": [
            "Relevance similarity score: 0.7598\n"
          ]
        }
      ]
    },
    {
      "cell_type": "code",
      "source": [
        "# Load the GPT2 model and tokenizer to compute perplexity\n",
        "gpt2_model = GPT2LMHeadModel.from_pretrained(\"distilgpt2\")\n",
        "gpt2_tokenizer = GPT2Tokenizer.from_pretrained(\"distilgpt2\")\n",
        "\n",
        "def calculate_perplexity(text):\n",
        "    # Tokenize the text\n",
        "    inputs = gpt2_tokenizer(text, return_tensors=\"pt\")\n",
        "    # Get the log-likelihood of the text\n",
        "    with torch.no_grad():\n",
        "        outputs = gpt2_model(**inputs, labels=inputs[\"input_ids\"])\n",
        "    log_likelihood = outputs.loss.item()\n",
        "    perplexity = torch.exp(torch.tensor(log_likelihood)).item()\n",
        "    return perplexity\n",
        "\n",
        "# Example usage\n",
        "perplexity_score = calculate_perplexity(generated_response)\n",
        "print(f\"Perplexity score: {perplexity_score:.4f}\")\n"
      ],
      "metadata": {
        "colab": {
          "base_uri": "https://localhost:8080/"
        },
        "id": "tIRV2fTIllS1",
        "outputId": "a2d0e4cb-b1b8-4998-8030-2a6013fb9a61"
      },
      "execution_count": 19,
      "outputs": [
        {
          "output_type": "stream",
          "name": "stdout",
          "text": [
            "Perplexity score: 16.0145\n"
          ]
        }
      ]
    },
    {
      "cell_type": "code",
      "source": [
        "def calculate_bleu(reference, generated_response):\n",
        "    # Preprocess the sentences by splitting into words\n",
        "    reference = reference.split()  # Split into words\n",
        "    generated_response = generated_response.split()\n",
        "\n",
        "    # BLEU expects a list of references (list of lists)\n",
        "    reference = [reference]\n",
        "\n",
        "    # Calculate BLEU score\n",
        "    score = sentence_bleu(reference, generated_response)\n",
        "    return score\n",
        "\n",
        "# Example usage\n",
        "reference_answer = \"Celiac disease is an autoimmune disorder that causes the body’s immune system to mistakenly attack its own tissues when gluten is ingested Gluten, a protein found in wheat, barley, and rye, triggers an immune response that leads to inflammation and damage to the villi of the small intestine This damage impairs the absorption of essential nutrients, leading to malnutrition and a variety of symptoms such as diarrhea, weight loss, abdominal pain, fatigue, and even skin rashes If left untreated, celiac disease can cause long-term complications such as osteoporosis, infertility, and even neurological disorders The only effective treatment for celiac disease is a lifelong gluten-free diet, which allows the intestine to heal and prevents further damage Individuals with celiac disease must carefully avoid all sources of gluten, including hidden gluten in processed foods, cosmetics, and medicines Regular checkups and blood tests are essential to monitor the individual's health and ensure the gluten-free diet is being strictly followed Celiac disease symptoms can vary widely among individuals and can include both gastrointestinal and non-gastrointestinal symptoms Common gastrointestinal symptoms include diarrhea, bloating, abdominal cramps, and weight loss \"\n",
        "generated_response = \"Celiac disease symptoms can vary widely among individuals and can include both gastrointestinal and non-gastrointestinal symptoms Common gastrointestinal symptoms include diarrhea, bloating, abdominal cramps, and weight loss However, many people may also experience non-gastrointestinal symptoms such as fatigue, joint pain, headaches, depression, skin rashes, and even infertility Celiac disease can often be misdiagnosed due to the variety of symptoms, and it may be confused with other conditions like irritable bowel syndrome or lactose intolerance Diagnosis typically involves blood tests looking for antibodies specific to celiac disease and a biopsy of the small intestine to assess damage to the villi Left untreated, celiac disease can lead to serious health complications such as osteoporosis, liver disease, and an increased risk of certain types of cancer It is crucial for individuals with suspected celiac disease to seek early diagnosis and follow a strict gluten-free diet to prevent long-term health issues Celiac disease is an autoimmune disorder that causes the body’s immune system to mistakenly attack its own tissues when gluten is ingested Gluten, a protein found in wheat, barley, and rye, triggers an immune response that leads to inflammation and damage to the villi of the small intestine This damage impairs the absorption of essential nutrients, leading to malnutrition and a variety of symptoms such as diarrhea, weight loss, abdominal pain, fatigue.\"\n",
        "bleu_score = calculate_bleu(reference_answer, generated_response)\n",
        "print(f\"BLEU score: {bleu_score:.4f}\")\n"
      ],
      "metadata": {
        "colab": {
          "base_uri": "https://localhost:8080/"
        },
        "id": "ZSW-A4c8qErU",
        "outputId": "2e671298-3a2b-49f3-f111-3bebdae5ec4f"
      },
      "execution_count": 56,
      "outputs": [
        {
          "output_type": "stream",
          "name": "stdout",
          "text": [
            "BLEU score: 0.4959\n"
          ]
        }
      ]
    },
    {
      "cell_type": "code",
      "source": [
        "def human_evaluation(query, generated_response):\n",
        "    # You could integrate a simple system like a rating scale.\n",
        "    # For instance, 1 is poor, 5 is excellent.\n",
        "    print(f\"Evaluate the response to the query: '{query}'\")\n",
        "    print(f\"Generated Response: {generated_response}\")\n",
        "    relevance = int(input(\"Relevance rating (1-5): \"))\n",
        "    fluency = int(input(\"Fluency rating (1-5): \"))\n",
        "    coherence = int(input(\"Coherence rating (1-5): \"))\n",
        "\n",
        "    return relevance, fluency, coherence\n",
        "\n",
        "# Example usage\n",
        "relevance, fluency, coherence = human_evaluation(query, generated_response)\n",
        "print(f\"Relevance: {relevance}, Fluency: {fluency}, Coherence: {coherence}\")"
      ],
      "metadata": {
        "colab": {
          "base_uri": "https://localhost:8080/"
        },
        "id": "tylT47PJlqTQ",
        "outputId": "5a103416-5c03-402c-93a2-f443f44e9af5"
      },
      "execution_count": 20,
      "outputs": [
        {
          "output_type": "stream",
          "name": "stdout",
          "text": [
            "Evaluate the response to the query: 'What are the symptoms of celiac disease?'\n",
            "Generated Response: User's Query: What are the symptoms of celiac disease?\n",
            "\n",
            "Context: Celiac disease symptoms can vary widely among individuals and can include both gastrointestinal and non-gastrointestinal symptoms Common gastrointestinal symptoms include diarrhea, bloating, abdominal cramps, and weight loss However, many people may also experience non-gastrointestinal symptoms such as fatigue, joint pain, headaches, depression, skin rashes, and even infertility Celiac disease can often be misdiagnosed due to the variety of symptoms, and it may be confused with other conditions like irritable bowel syndrome or lactose intolerance Diagnosis typically involves blood tests looking for antibodies specific to celiac disease and a biopsy of the small intestine to assess damage to the villi Left untreated, celiac disease can lead to serious health complications such as osteoporosis, liver disease, and an increased risk of certain types of cancer It is crucial for individuals with suspected celiac disease to seek early diagnosis and follow a strict gluten-free diet to prevent long-term health issues Celiac disease is an autoimmune disorder that causes the body’s immune system to mistakenly attack its own tissues when gluten is ingested Gluten, a protein found in wheat, barley, and rye, triggers an immune response that leads to inflammation and damage to the villi of the small intestine This damage impairs the absorption of essential nutrients, leading to malnutrition and a variety of symptoms such as diarrhea, weight loss, abdominal pain, fatigue, and even skin rashes If left untreated, celiac disease can cause long-term complications such as osteoporosis, infertility, and even neurological disorders The only effective treatment for celiac disease is a lifelong gluten-free diet, which allows the intestine to heal and prevents further damage Individuals with celiac disease must carefully avoid all sources of gluten, including hidden gluten in processed foods, cosmetics, and medicines Regular checkups and blood tests are essential to monitor the individual's health and ensure the gluten-free diet is being strictly followed Gluten is a protein found in wheat, barley, and rye that gives dough its elasticity and helps it rise and maintain its shape For individuals with celiac disease, gluten triggers an immune response that damages the small intestine, particularly the villi, which are responsible for nutrient absorption In people with celiac disease, consuming gluten leads to inflammation and destruction of these villi, leading to malabsorption of nutrients This can cause a range of symptoms from gastrointestinal issues like diarrhea, bloating, and cramps, to more serious complications such as anemia, osteoporosis, and even infertility Gluten is found in a wide range of foods and beverages, including bread, pasta, cereals, and beer It is also used in processed foods as a stabilizing agent and thickener For individuals with celiac disease, it is crucial to avoid all forms of gluten and any products that may be contaminated with gluten, including cosmetics and medications that may contain gluten as a binding agent Certain brands have been named since 1997 because they offer low quality ingredients but no nutritional value (for example, soy milk) Some manufacturers claim that their product contains high levels of polyunsaturated fatty acids compared not to those containing saturated fats.[1] They say this information should help them determine if there is sufficient evidence to support whether dietary restrictions on meat consumption do exist within general guidelines regarding food safety;[2][3].\n",
            "Relevance rating (1-5): 5\n",
            "Fluency rating (1-5): 5\n",
            "Coherence rating (1-5): 5\n",
            "Relevance: 5, Fluency: 5, Coherence: 5\n"
          ]
        }
      ]
    },
    {
      "cell_type": "code",
      "source": [
        "import time\n",
        "\n",
        "def evaluate_time_efficiency(query):\n",
        "    start_time = time.time()\n",
        "    response = generate_response(query)\n",
        "    end_time = time.time()\n",
        "\n",
        "    response_time = end_time - start_time\n",
        "    return response_time\n",
        "\n",
        "# Example usage\n",
        "response_time = evaluate_time_efficiency(query)\n",
        "print(f\"Response time: {response_time:.2f} seconds\")\n"
      ],
      "metadata": {
        "colab": {
          "base_uri": "https://localhost:8080/"
        },
        "id": "Yi694OmAmHXO",
        "outputId": "afd9ea7f-5332-42c7-bd88-8e696cc55720"
      },
      "execution_count": 22,
      "outputs": [
        {
          "output_type": "stream",
          "name": "stdout",
          "text": [
            "Response time: 13.46 seconds\n"
          ]
        }
      ]
    },
    {
      "cell_type": "code",
      "source": [
        "\n",
        "# # Streamlit Appearance Setup\n",
        "# st.set_page_config(\n",
        "#     page_title=\"Baymax here!\",\n",
        "#     page_icon=\"⚕️\",\n",
        "#     layout=\"wide\",\n",
        "# )\n",
        "\n",
        "# # App Header\n",
        "# st.title(\"Baymax🩺\")\n",
        "# st.subheader(\"Your Personal Healthcare Companion\")\n",
        "# st.markdown(\"\"\"\n",
        "# Welcome to **Baymax**, your personal healthcare companion! 🌟\n",
        "# Ask me anything about health, wellness, or medical concerns.\n",
        "# I use advanced AI and a curated knowledge base to provide accurate, helpful responses.\n",
        "# \"\"\")\n",
        "\n",
        "# # Sidebar Configuration\n",
        "# st.sidebar.image(\n",
        "#     \"https://i.pinimg.com/originals/3a/a8/51/3aa851a0f34d6703c7f0ac7ff6a41e8a.png\",\n",
        "#     caption=\"Baymax: Your Personal Healthcare Companion\",\n",
        "#     use_column_width=True\n",
        "# )\n",
        "\n",
        "\n",
        "# # Main Chat Interface\n",
        "# st.subheader(\"🔍 Ask Your Question\")\n",
        "# query = st.text_input(\"Type your question here:\", help=\"E.g., What are the symptoms of celiac disease?\")\n",
        "\n",
        "# if st.button(\"Get Response 🚀\"):\n",
        "#     if query.strip():\n",
        "#         with st.spinner(\"Thinking... 🤔\"):\n",
        "#             try:\n",
        "#                 # Generate the AI response based on the user's query\n",
        "#                 response = generate_response(query)\n",
        "#                 st.success(\"Here's what I found! 🧠\")\n",
        "#                 st.markdown(f\"**{response}**\")\n",
        "#             except Exception as e:\n",
        "#                 st.error(f\"Something went wrong! 😕 Error: {e}\")\n",
        "#     else:\n",
        "#         st.warning(\"Please enter a valid question! 📝\")\n",
        "\n",
        "# # Footer\n",
        "# st.markdown(\"\"\"\n",
        "# ---\n",
        "# **Pro Tip:** Use specific queries for the best results!\n",
        "# **Example:** \"What are the symptoms of diabetes?\"\n",
        "# \"\"\")\n",
        "# st.markdown(\"Made with ❤️ for your health and well-being.\")"
      ],
      "metadata": {
        "id": "v88K1obWlHhs"
      },
      "execution_count": null,
      "outputs": []
    }
  ]
}